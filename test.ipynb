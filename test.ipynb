{
 "cells": [
  {
   "cell_type": "code",
   "execution_count": 64,
   "metadata": {},
   "outputs": [],
   "source": [
    "from sqlalchemy import Column, Integer, String, ForeignKey\n",
    "from sqlalchemy.orm import declarative_base\n",
    "from sqlalchemy import create_engine\n",
    "from sqlalchemy.orm import sessionmaker\n",
    "from src.runsql import SQL"
   ]
  },
  {
   "cell_type": "code",
   "execution_count": 65,
   "metadata": {},
   "outputs": [
    {
     "data": {
      "text/plain": [
       "[('Biondi-Santi Brunello di Montalcino Riserva 1955', 4.9),\n",
       " (\"Château Doisy-Daëne L'Extravagant de Doisy-Daëne Sauternes 2001\", 4.9),\n",
       " ('Pétrus Pomerol 1990', 4.8),\n",
       " ('Salon Le Mesnil Blanc de Blancs (Cuvée S) Brut Champagne 1996', 4.8),\n",
       " ('Château Lafite Rothschild Pauillac (Premier Grand Cru Classé) 2003', 4.8),\n",
       " ('Château Latour Grand Vin Pauillac (Premier Grand Cru Classé) 2003', 4.8),\n",
       " ('Masseto Toscana 2006', 4.8),\n",
       " (\"Château d'Yquem Sauternes 2015\", 4.8),\n",
       " ('Masseto Toscana 2005', 4.8),\n",
       " ('Masseto Toscana 2001', 4.8)]"
      ]
     },
     "execution_count": 65,
     "metadata": {},
     "output_type": "execute_result"
    }
   ],
   "source": [
    "# highlights the 10 highest ranked wines from vintages table\n",
    "test = SQL()\n",
    "query1 = \"SELECT name, ratings_average FROM vintages ORDER BY ratings_average DESC, ratings_count DESC LIMIT 10\"\n",
    "test.run_fromtext(query1)\n",
    "# test.cnn_close()\n",
    "\n"
   ]
  },
  {
   "cell_type": "code",
   "execution_count": 66,
   "metadata": {},
   "outputs": [
    {
     "data": {
      "text/plain": [
       "[(6880159, 'Masseto Toscana 2006', 4.8),\n",
       " (6988511, 'Masseto Toscana 2005', 4.8),\n",
       " (14187320, 'Scarecrow Cabernet Sauvignon 2015', 4.8),\n",
       " (1411331, 'Ornellaia Bolgheri Superiore 2005', 4.7),\n",
       " (6457741, 'Masseto Toscana 2010', 4.7),\n",
       " (7372117, 'Masseto Toscana 2004', 4.7),\n",
       " (1602232, 'Château Rayas Châteauneuf-du-Pape 2001', 4.7),\n",
       " (1409704,\n",
       "  'Château Margaux Château Margaux (Premier Grand Cru Classé) 2010',\n",
       "  4.7),\n",
       " (1209030, 'Gaja Barbaresco 1997', 4.7),\n",
       " (1738719, 'Château Rayas Châteauneuf-du-Pape 2005', 4.7)]"
      ]
     },
     "execution_count": 66,
     "metadata": {},
     "output_type": "execute_result"
    }
   ],
   "source": [
    "# find out the country which produce the wine with lowest average price\n",
    "query2 = \"\"\"SELECT DISTINCT vintage_toplists_rankings.vintage_id, vintages.name, ratings_average\n",
    "FROM vintages JOIN vintage_toplists_rankings \n",
    "ON vintages.id = vintage_toplists_rankings.vintage_id \n",
    "ORDER BY vintage_toplists_rankings.rank, vintages.ratings_average DESC \n",
    "LIMIT 10\"\"\"\n",
    "test.run_fromtext(query2)"
   ]
  },
  {
   "cell_type": "code",
   "execution_count": 77,
   "metadata": {},
   "outputs": [
    {
     "data": {
      "text/plain": [
       "[('Moldavie', 0.06859333333333334),\n",
       " ('Grèce', 0.09066666666666667),\n",
       " ('Hongrie', 0.19994),\n",
       " ('Afrique du Sud', 0.22268222222222223),\n",
       " ('Argentine', 0.22289333333333333),\n",
       " ('Chili', 0.2572333333333333),\n",
       " ('Portugal', 0.38857916666666664),\n",
       " ('États-Unis', 0.5589468181818182),\n",
       " ('Allemagne', 0.6615333333333333),\n",
       " ('Espagne', 0.7956841176470588)]"
      ]
     },
     "execution_count": 77,
     "metadata": {},
     "output_type": "execute_result"
    }
   ],
   "source": [
    "#select the top 3 countries which produce the most afforable wine yet with decent ratings (above 4.6)\n",
    "query3 = \"\"\"SELECT countries.name,\n",
    "        AVG(vintages.price_euros/vintages.bottle_volume_ml) AS avg\n",
    "FROM vintages JOIN wines\n",
    "ON vintages.wine_id = wines.id\n",
    "JOIN regions ON wines.region_id = regions.id\n",
    "JOIN countries ON regions.country_code = countries.code\n",
    "WHERE vintages.ratings_average >= 4.6\n",
    "GROUP BY countries.name\n",
    "ORDER BY avg\n",
    "LIMIT 10\"\"\"\n",
    "test.run_fromtext(query3)"
   ]
  }
 ],
 "metadata": {
  "kernelspec": {
   "display_name": ".bocode",
   "language": "python",
   "name": "python3"
  },
  "language_info": {
   "codemirror_mode": {
    "name": "ipython",
    "version": 3
   },
   "file_extension": ".py",
   "mimetype": "text/x-python",
   "name": "python",
   "nbconvert_exporter": "python",
   "pygments_lexer": "ipython3",
   "version": "3.11.3"
  },
  "orig_nbformat": 4
 },
 "nbformat": 4,
 "nbformat_minor": 2
}
